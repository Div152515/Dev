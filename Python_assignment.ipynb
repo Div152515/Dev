{
 "cells": [
  {
   "cell_type": "code",
   "execution_count": null,
   "id": "9f7c36d2-b96a-40fa-ae53-fbd906a592d3",
   "metadata": {},
   "outputs": [],
   "source": [
    "# Module 7) DA- Introduction to python Assignment\n",
    "\n",
    "#1) What are the types of Applications?\n",
    "\n",
    "\"\"\"-> Applications are always changing in response to new technological developments and shifting user needs.\n",
    "   Applications can be used for a variety of purposes, including communication, entertainment, business productivity,\n",
    "   personal use, and specialized tasks.\n",
    "\n",
    "   # Types of Applications :-\n",
    "   -> Mobile Apllication intragram , facebook ect,\n",
    "   -> software like window 10, macos ect.\n",
    "   -> application software like Microsoft Excel , Microsoft Office, Word, Access, Google Sheet, Google Appsheet, Lookers tudio, \n",
    "   -> Web Browsers like Chrome, Opera ect. \"\"\""
   ]
  },
  {
   "cell_type": "code",
   "execution_count": 7,
   "id": "90a27f0d-79ad-4510-b972-f11fec822705",
   "metadata": {},
   "outputs": [
    {
     "data": {
      "text/plain": [
       "'-> Programming refers to the process of creating instructions that a computer can follow to perform specific tasks or \\n   achieve desired outcomes. It involves testing, debugging, and maintaining the source code of computer programs. 21 \\n   Programming is used to create a wide range of software applications, from simple scripts and mobile apps to complex\\n   systems like operating systems, databases, and web applications. '"
      ]
     },
     "execution_count": 7,
     "metadata": {},
     "output_type": "execute_result"
    }
   ],
   "source": [
    "#2) What is programing?\n",
    "\n",
    "\"\"\"-> Programming refers to the process of creating instructions that a computer can follow to perform specific tasks or \n",
    "   achieve desired outcomes. It involves testing, debugging, and maintaining the source code of computer programs. 21 \n",
    "   Programming is used to create a wide range of software applications, from simple scripts and mobile apps to complex\n",
    "   systems like operating systems, databases, and web applications. \"\"\"\n"
   ]
  },
  {
   "cell_type": "code",
   "execution_count": 9,
   "id": "99788329-3c31-4773-8e2a-72434912b939",
   "metadata": {},
   "outputs": [
    {
     "data": {
      "text/plain": [
       "'-> . Python is a high level programming language, interpreted programming language known for its simplicity and readability. \\nIt was created by Guido van Rossum and first released in 1991. Python is widely used for various purposes,\\nincluding data analysis, artificial intelligence, web development, scientific computing, ect. '"
      ]
     },
     "execution_count": 9,
     "metadata": {},
     "output_type": "execute_result"
    }
   ],
   "source": [
    "#3) What is Python?\n",
    "\n",
    "\"\"\"-> . Python is a high level programming language, interpreted programming language known for its simplicity and readability. \n",
    "It was created by Guido van Rossum and first released in 1991. Python is widely used for various purposes,\n",
    "including data analysis, artificial intelligence, web development, scientific computing, ect. \"\"\"\n"
   ]
  },
  {
   "cell_type": "code",
   "execution_count": 11,
   "id": "fa52df5f-f21f-4c96-b1ce-59b66c0c03cd",
   "metadata": {},
   "outputs": [
    {
     "name": "stdout",
     "output_type": "stream",
     "text": [
      "it is nagative number\n"
     ]
    }
   ],
   "source": [
    "#4) :- Write a Python program to check if a number is positive, negative or Zero.\n",
    "\n",
    "num = -1\n",
    "\n",
    "if num > 0:\n",
    "    print(\"it is a positive number\")\n",
    "elif num == 0:\n",
    "    print(\"it is zero\")\n",
    "else:\n",
    "    print(\"it is nagative number\")"
   ]
  },
  {
   "cell_type": "code",
   "execution_count": 13,
   "id": "f50592c1-3cc3-4f2c-859b-48d37ec93744",
   "metadata": {},
   "outputs": [
    {
     "name": "stdin",
     "output_type": "stream",
     "text": [
      "Enter a number here : 5\n"
     ]
    },
    {
     "name": "stdout",
     "output_type": "stream",
     "text": [
      "the factorial of the given number is 120\n"
     ]
    }
   ],
   "source": [
    "#5) :- Write a Python program to get the Factorial number of given numbers.\n",
    "\n",
    "num = int(input(\"Enter a number here :\"))\n",
    "\n",
    "fact = 1\n",
    "\n",
    "if num < 0:  \n",
    "    print(\"factorial of 0 does not exist\")\n",
    "if num == 0: \n",
    "    print(\"factorial of 0 is\",1)\n",
    "if num > 0:\n",
    "    for i in range (1,num+1):\n",
    "        fact = fact * i\n",
    "print(\"the factorial of the given number is\", fact)"
   ]
  },
  {
   "cell_type": "code",
   "execution_count": 15,
   "id": "f7001b7a-1dd5-476a-a204-8fc97d864baf",
   "metadata": {},
   "outputs": [
    {
     "name": "stdin",
     "output_type": "stream",
     "text": [
      "enter a number to obtain fibonacci series : 5\n"
     ]
    },
    {
     "name": "stdout",
     "output_type": "stream",
     "text": [
      "0\n",
      "1\n",
      "1\n",
      "2\n",
      "3\n",
      "5\n",
      "8\n"
     ]
    }
   ],
   "source": [
    "#6) Write a Python program to get the Fibonacci series of given range.\n",
    "\n",
    "a = 0\n",
    "b = 1\n",
    "num = int(input(\"enter a number to obtain fibonacci series :\"))\n",
    "\n",
    "if num ==1:\n",
    "    print(a)\n",
    "else:\n",
    "    print(a)\n",
    "    print(b)\n",
    "    for i in range (1,num+1):\n",
    "        c = a + b\n",
    "        a = b\n",
    "        b = c\n",
    "        print(c)\n",
    "        "
   ]
  },
  {
   "cell_type": "code",
   "execution_count": 1,
   "id": "cba1dc25-122e-454e-94dc-35474e39d608",
   "metadata": {},
   "outputs": [
    {
     "data": {
      "text/plain": [
       "\"-> Python uses a variety of methods to manage memory, including garbage collection, reference counting, and memory pooling.\\n   These methods work together to ensure that memory is used efficiently and to prevent memory leaks. \\n\\n#Garbage collection:-\\nAutomatically frees up memory that the system is not using \\nUses reference counting and generational garbage collection to identify objects that are no longer in use \\n\\n#Reference counting:-\\nTracks how often an object is used by a program \\nWhen an object's reference count reaches zero, the memory manager can reclaim the memory \\n\\n#Memory pooling:-\\nUses object-specific allocators to manage memory for different types of objects \\nUses arenas, pools, and blocks to allocate memory \\n\\n#Other memory management methods:-\\nGenerators and iterators: Load data streams one at a time instead of storing the entire data sequence in memory\\nGIL: Prevents threads from interfering with each other's reference counts.\""
      ]
     },
     "execution_count": 1,
     "metadata": {},
     "output_type": "execute_result"
    }
   ],
   "source": [
    "#7)  How memory is managed in Python? \n",
    "\n",
    "\"\"\"-> Python uses a variety of methods to manage memory, including garbage collection, reference counting, and memory pooling.\n",
    "   These methods work together to ensure that memory is used efficiently and to prevent memory leaks. \n",
    "\n",
    "#Garbage collection:-\n",
    "Automatically frees up memory that the system is not using \n",
    "Uses reference counting and generational garbage collection to identify objects that are no longer in use \n",
    "\n",
    "#Reference counting:-\n",
    "Tracks how often an object is used by a program \n",
    "When an object's reference count reaches zero, the memory manager can reclaim the memory \n",
    "\n",
    "#Memory pooling:-\n",
    "Uses object-specific allocators to manage memory for different types of objects \n",
    "Uses arenas, pools, and blocks to allocate memory \n",
    "\n",
    "#Other memory management methods:-\n",
    "Generators and iterators: Load data streams one at a time instead of storing the entire data sequence in memory\n",
    "GIL: Prevents threads from interfering with each other's reference counts.\"\"\""
   ]
  },
  {
   "cell_type": "code",
   "execution_count": 21,
   "id": "c818f282-1107-4824-bacf-75a7e43acf4a",
   "metadata": {},
   "outputs": [
    {
     "data": {
      "text/plain": [
       "'-> , The continue statement is used within loops such as for loops, while loops to skip the remaining code inside the \\n     loop for the current iteration and proceed to the next iteration.Its primary purpose is to alter the flow of control \\n     in loops based on certain conditions.\\n\\n-> Any instruction written in the source code and executed by the Python interpreter is called a statement.\\n   The Python language has many different types of statements like assignment statements, conditional statements, looping statements, etc., \\n   that help a programmer get the desired output.'"
      ]
     },
     "execution_count": 21,
     "metadata": {},
     "output_type": "execute_result"
    }
   ],
   "source": [
    "#8) What is the purpose continuing statement in python?\n",
    "\n",
    "\"\"\"-> , The continue statement is used within loops such as for loops, while loops to skip the remaining code inside the \n",
    "     loop for the current iteration and proceed to the next iteration.Its primary purpose is to alter the flow of control \n",
    "     in loops based on certain conditions.\n",
    "\n",
    "-> Any instruction written in the source code and executed by the Python interpreter is called a statement.\n",
    "   The Python language has many different types of statements like assignment statements, conditional statements, looping statements, etc., \n",
    "   that help a programmer get the desired output.\"\"\"\n"
   ]
  },
  {
   "cell_type": "code",
   "execution_count": 23,
   "id": "ea843447-a440-401b-8cc6-eb6a1d28f0a3",
   "metadata": {},
   "outputs": [
    {
     "name": "stdout",
     "output_type": "stream",
     "text": [
      "Before swapping: \n",
      "Value of x :  5  and y :  7\n",
      "After swapping: \n",
      "Value of x :  7  and y :  5\n"
     ]
    }
   ],
   "source": [
    "#(9) Write python program that swap two number with temp variable and without temp variable.\n",
    "\n",
    "# without temp Variable \n",
    "# Python code to swap two numbers\n",
    "# without using another variable\n",
    "\n",
    "\n",
    "x = 5\n",
    "y = 7\n",
    "\n",
    "print (\"Before swapping: \")\n",
    "print(\"Value of x : \", x, \" and y : \", y)\n",
    "\n",
    "# code to swap 'x' and 'y'\n",
    "x, y = y, x\n",
    "\n",
    "print (\"After swapping: \")\n",
    "print(\"Value of x : \", x, \" and y : \", y)"
   ]
  },
  {
   "cell_type": "code",
   "execution_count": 25,
   "id": "2b1c0c03-da5a-4f4c-a3c8-58f1f857be12",
   "metadata": {},
   "outputs": [
    {
     "name": "stdout",
     "output_type": "stream",
     "text": [
      "Even\n",
      "Odd\n"
     ]
    }
   ],
   "source": [
    "#10) Write a Python program to find whether a given number is even or odd, print out an appropriate message to the user.\n",
    "\n",
    "\n",
    "x = 24 \n",
    "# Check the remainder dividing x by 2 is 0\n",
    "if x % 2 == 0:\n",
    "    print(\"Even\")\n",
    "else:\n",
    "    print(\"Odd\")\n",
    "\n",
    "# Checking another number    \n",
    "x = 7\n",
    "\n",
    "if x % 2 == 0:\n",
    "\n",
    "  print(\"Even\")\n",
    "else:\n",
    "    print(\"Odd\")\n"
   ]
  },
  {
   "cell_type": "code",
   "execution_count": 27,
   "id": "694cfdb8-f698-42d9-aa24-68a45a97c4e0",
   "metadata": {},
   "outputs": [
    {
     "name": "stdout",
     "output_type": "stream",
     "text": [
      "Consonant\n",
      "Vowel\n"
     ]
    }
   ],
   "source": [
    "#11) Write a Python program to test whether a passed letter is a vowel or not\n",
    "\n",
    "# Python3 program to check if a given \n",
    "# character is vowel or consonant. \n",
    "\n",
    "# Function to check whether a character \n",
    "# is vowel or not \n",
    "def vowelOrConsonant(x): \n",
    "\n",
    "\tif (x == 'a' or x == 'e' or\n",
    "\t\tx == 'i' or x == 'o' or x == 'u'): \n",
    "\t\tprint(\"Vowel\") \n",
    "\telse: \n",
    "\t\tprint(\"Consonant\") \n",
    "\n",
    "# Driver code \n",
    "vowelOrConsonant('c') \n",
    "vowelOrConsonant('e') \n",
    "\t\n"
   ]
  },
  {
   "cell_type": "code",
   "execution_count": 51,
   "id": "b4738db1-72d3-4712-b5c0-06eb5b675a4b",
   "metadata": {},
   "outputs": [
    {
     "name": "stdout",
     "output_type": "stream",
     "text": [
      "0\n",
      "0\n",
      "0\n",
      "6\n"
     ]
    }
   ],
   "source": [
    "#12) Write a Python program to sum of three given integers. However, if two values are equal sum will be zero. \n",
    "\n",
    "\n",
    "\n",
    "def sum(x, y, z):\n",
    "    if x == y or y == z or x == z:\n",
    "        sum = 0\n",
    "    else:\n",
    "        sum = x + y + z\n",
    "    return sum\n",
    "print(sum(2, 1, 2))\n",
    "print(sum(3, 2, 2))\n",
    "print(sum(2, 2, 2))\n",
    "print(sum(1, 2, 3))"
   ]
  },
  {
   "cell_type": "code",
   "execution_count": 53,
   "id": "a872e8c5-c2a2-4d55-b2ff-008506370fcb",
   "metadata": {},
   "outputs": [
    {
     "name": "stdout",
     "output_type": "stream",
     "text": [
      "True\n",
      "True\n",
      "True\n",
      "False\n",
      "False\n"
     ]
    }
   ],
   "source": [
    "#13) Write a Python program that will return true if the two given integer values are equal or their sum or difference is 5.\n",
    "\n",
    "\n",
    "\n",
    "def test_number5(x, y):\n",
    "\n",
    "    if x == y or abs(x - y) == 5 or (x + y) == 5:\n",
    "    \n",
    "        return True\n",
    "    else:\n",
    "        \n",
    "        return False\n",
    "\n",
    "\n",
    "print(test_number5(7, 2))\n",
    "print(test_number5(3, 2))\n",
    "print(test_number5(2, 2))\n",
    "print(test_number5(7, 3))\n",
    "print(test_number5(27, 53))\n"
   ]
  },
  {
   "cell_type": "code",
   "execution_count": 61,
   "id": "e2a78d86-2078-4354-90f0-45374c04bb0d",
   "metadata": {},
   "outputs": [
    {
     "name": "stdin",
     "output_type": "stream",
     "text": [
      "Input a number:  2\n"
     ]
    },
    {
     "name": "stdout",
     "output_type": "stream",
     "text": [
      "Sum of the first 2 positive integers: 3.0\n"
     ]
    }
   ],
   "source": [
    "#14) Write a python program to sum of the first n positive integers.\n",
    "\n",
    "\n",
    "\n",
    "n = int(input(\"Input a number: \"))\n",
    "sum_num = (n * (n + 1)) / 2\n",
    "\n",
    "\n",
    "print(\"Sum of the first\", n, \"positive integers:\", sum_num)\n"
   ]
  },
  {
   "cell_type": "code",
   "execution_count": 63,
   "id": "b68db5c6-544b-4f48-b1ac-79102f6d7abc",
   "metadata": {},
   "outputs": [
    {
     "name": "stdout",
     "output_type": "stream",
     "text": [
      "{'I': 1, ' ': 2, 'a': 1, 'm': 1, 'd': 1, 'e': 1, 'v': 1}\n"
     ]
    }
   ],
   "source": [
    "#15) Write a Python program to count the number of characters (character frequency) in a string.\n",
    "\n",
    "s = \"I am dev\"\n",
    "freq = {}\n",
    "\n",
    "for c in s:\n",
    "    if c in freq:\n",
    "        freq[c] += 1\n",
    "    else:\n",
    "        freq[c] = 1\n",
    "\n",
    "print(freq)\n"
   ]
  },
  {
   "cell_type": "code",
   "execution_count": 65,
   "id": "bef3ccbf-3e98-420f-ac05-7d3d8e3ea028",
   "metadata": {},
   "outputs": [
    {
     "name": "stdin",
     "output_type": "stream",
     "text": [
      "enter a String : yes\n"
     ]
    },
    {
     "name": "stdout",
     "output_type": "stream",
     "text": [
      "Length of string is : 3\n"
     ]
    }
   ],
   "source": [
    "#16) Write a Python program to calculate the length of a string.\n",
    "\n",
    "\n",
    "str = input(\"enter a String :\")\n",
    "length = 0\n",
    "\n",
    "for _ in str:\n",
    "    length += 1\n",
    "\n",
    "print(\"Length of string is :\",length)"
   ]
  },
  {
   "cell_type": "code",
   "execution_count": null,
   "id": "45357612-459f-454d-b1aa-fc00ea5b1e17",
   "metadata": {},
   "outputs": [],
   "source": [
    "#17)What are negative indexes and why are they used? \n",
    "\n",
    "\"\"\"Negative indexes are a way to access elements in a sequence from the end instead of the beginning. \n",
    "They are used in Python to manipulate lists, arrays, and strings. \n",
    "\n",
    "-> How they work:-\n",
    "*Negative indexes start from -1, while positive indexes start from 0. \n",
    "*For example, in a tuple, -1 is the last item, -2 is the second-to-last, and so on. \n",
    "*Negative indexes can be used to start a slice from the end of a string. \n",
    "\n",
    "-> Why they are useful:-\n",
    "*They are useful when working with large lists. \n",
    "*They are useful when you need to access the last few elements without knowing their exact position. \n",
    "*They make it easier to manipulate lists because you don't need to know the exact size of the list to retrieve elements at the end.\"\"\"\n"
   ]
  },
  {
   "cell_type": "code",
   "execution_count": 71,
   "id": "c4c80ec5-0a1c-4c73-99c4-075c9c44af49",
   "metadata": {},
   "outputs": [
    {
     "name": "stdin",
     "output_type": "stream",
     "text": [
      "Enter a string : Never Give Up\n",
      "Enter a substring : e\n"
     ]
    },
    {
     "name": "stdout",
     "output_type": "stream",
     "text": [
      "Substring occurs how many times  3\n"
     ]
    }
   ],
   "source": [
    "#18)Write a Python program to count occurrences of a substring in a string. \n",
    "\n",
    "\n",
    "my_string = input(\"Enter a string :\")\n",
    "my_substring = input(\"Enter a substring :\")\n",
    "\n",
    "my_count = my_string.count(my_substring)\n",
    "\n",
    "print(\"Substring occurs how many times \", my_count)\n",
    "\n"
   ]
  },
  {
   "cell_type": "code",
   "execution_count": 124,
   "id": "e6e0a6f2-5476-4928-a586-e5577e122580",
   "metadata": {},
   "outputs": [
    {
     "name": "stdin",
     "output_type": "stream",
     "text": [
      "enter a sentence : I will play cricket and I am Bestman\n"
     ]
    },
    {
     "name": "stdout",
     "output_type": "stream",
     "text": [
      "I present  2 times\n",
      "will present  1 times\n",
      "play present  1 times\n",
      "cricket present  1 times\n",
      "and present  1 times\n",
      "I present  2 times\n",
      "am present  1 times\n",
      "Bestman present  1 times\n"
     ]
    }
   ],
   "source": [
    "#19)Write a Python program to count the occurrences of each word in a given sentence?\n",
    "\n",
    "str = input(\"enter a sentence :\")\n",
    "str=str.split()\n",
    "i = 0\n",
    "count = 0\n",
    "while i<len(str):\n",
    "    count = 0\n",
    "    for j in str:\n",
    "        if str[i]==j:\n",
    "            count=count+1\n",
    "    print(str[i],\"present \",count,\"times\")\n",
    "    i=i+1\n",
    "\n",
    "\n",
    "\t\t\t\n",
    "\t\t\n"
   ]
  },
  {
   "cell_type": "code",
   "execution_count": 128,
   "id": "a0ffa855-c216-4996-a5c3-db065e1f138d",
   "metadata": {},
   "outputs": [
    {
     "name": "stdout",
     "output_type": "stream",
     "text": [
      "pevr give un\n",
      "nythoP\n"
     ]
    }
   ],
   "source": [
    "#20)Write a Python program to get a single string from two given strings, separated by a space and swap the first two characters of each string. \n",
    "\n",
    "\n",
    "def swap(string):\n",
    "\t\n",
    "\t\n",
    "\tstart = string[0]\n",
    "\t\n",
    "\t\n",
    "\tend = string[-1]\n",
    "\t\n",
    "\tswapped_string = end + string[1:-1] + start\n",
    "\tprint(swapped_string)\n",
    "\t\n",
    "\n",
    "swap(\"nevr give up\")\n",
    "swap(\"Python\")\n",
    "\n"
   ]
  },
  {
   "cell_type": "code",
   "execution_count": 130,
   "id": "0470e399-c90d-4ca9-8e10-f209870364ac",
   "metadata": {},
   "outputs": [
    {
     "name": "stdout",
     "output_type": "stream",
     "text": [
      "ab\n",
      "abcing\n",
      "stringly\n"
     ]
    }
   ],
   "source": [
    "\"\"\"#21)Write a Python program to add 'in' at the end of a given string (length\n",
    "should be at least 3). If the given string already ends with 'ing' then\n",
    "add 'ly' instead if the string length of the given string is less than 3,\n",
    "leave it unchanged.\"\"\"\n",
    "\n",
    "\n",
    "\n",
    "def add_string(str1):\n",
    "    \n",
    "    length = len(str1)\n",
    "\n",
    "    \n",
    "    if length > 2:\n",
    "        \n",
    "        if str1[-3:] == 'ing':\n",
    "            str1 += 'ly'\n",
    "        else:\n",
    "            \n",
    "            str1 += 'ing'\n",
    "\n",
    "    \n",
    "    return str1\n",
    "\n",
    "\n",
    "print(add_string('ab'))      \n",
    "print(add_string('abc'))    \n",
    "print(add_string('string'))  \n"
   ]
  },
  {
   "cell_type": "code",
   "execution_count": 132,
   "id": "cbe7f2aa-7013-4b27-8dc9-f146ebd94ce1",
   "metadata": {},
   "outputs": [
    {
     "name": "stdout",
     "output_type": "stream",
     "text": [
      "learn\n",
      "python\n"
     ]
    }
   ],
   "source": [
    "#22)Write a Python function to reverses a string if its length is a multiple of 4. \n",
    "\n",
    "\n",
    "def reverse_string(str1):\n",
    "    \n",
    "    if len(str1) % 4 == 0:\n",
    "        \n",
    "        return ''.join(reversed(str1))\n",
    "    \n",
    "    \n",
    "    return str1\n",
    "\n",
    "\n",
    "print(reverse_string('learn'))   \n",
    "print(reverse_string('python')) \n"
   ]
  },
  {
   "cell_type": "code",
   "execution_count": 136,
   "id": "a9483e75-c1ad-41c6-a4e8-059ffb727064",
   "metadata": {},
   "outputs": [
    {
     "name": "stdout",
     "output_type": "stream",
     "text": [
      "Input string = Never Give Up\n",
      "New String = NeUp\n"
     ]
    }
   ],
   "source": [
    "\"\"\"#23)Write a Python program to get a string made of the first 2 and the last\n",
    "2 chars from a given a string. If the string length is less than 2, return\n",
    "instead of the empty string.\"\"\"\n",
    "\n",
    "\n",
    "# Taking input from the user\n",
    "inputString = \"Never Give Up\"\n",
    "\n",
    "count = 0\n",
    "\n",
    "# Loop through the string\n",
    "for i in inputString:\n",
    "\tcount = count + 1\n",
    "newString = inputString[ 0:2 ] + inputString [count - 2: count ] \n",
    "\n",
    "# Printing the new String\n",
    "print(\"Input string = \" + inputString)\n",
    "print(\"New String = \"+ newString)\n",
    "\n"
   ]
  },
  {
   "cell_type": "code",
   "execution_count": 140,
   "id": "699f2bd3-20e5-4a28-be11-ce2cf6d478b2",
   "metadata": {},
   "outputs": [
    {
     "name": "stdout",
     "output_type": "stream",
     "text": [
      "hello good morning, how are you\n"
     ]
    },
    {
     "name": "stdin",
     "output_type": "stream",
     "text": [
      "enter string to insert:  Dev \n"
     ]
    },
    {
     "data": {
      "text/plain": [
       "'Hello good morning Dev , how are you'"
      ]
     },
     "execution_count": 140,
     "metadata": {},
     "output_type": "execute_result"
    }
   ],
   "source": [
    "#24)Write a Python function to insert a string in the middle of a string. \n",
    "\n",
    "\n",
    "\n",
    "def mid(user):\n",
    "    return(f\"Hello good morning {user}, how are you\")\n",
    "ex = \"hello good morning, how are you\"\n",
    "print(ex)\n",
    "main = input(\"enter string to insert: \")\n",
    "mid(main)"
   ]
  },
  {
   "cell_type": "code",
   "execution_count": 142,
   "id": "6a7d03b3-d841-4ba0-b259-fcfc0db5a853",
   "metadata": {},
   "outputs": [
    {
     "name": "stdout",
     "output_type": "stream",
     "text": [
      "[5, 4, 3, 2, 1]\n"
     ]
    }
   ],
   "source": [
    "#25)What is List? How will you reverse a list?\n",
    "\n",
    "\"\"\" -> Reverse List Using the Reversed() and Reverse() Built-In Function. Using reversed() we can reverse the list \n",
    "   and a list_reverseiterator object is created, from which we can create a list using list() type casting. Or,\n",
    "   we can also use the list reverse() function to reverse list in place. \"\"\"\n",
    "   \n",
    "lst = [1, 2, 3, 4, 5]\n",
    "print(lst[::-1])\n"
   ]
  },
  {
   "cell_type": "code",
   "execution_count": 146,
   "id": "aaef5772-520b-4e29-82a1-54c73a90d628",
   "metadata": {},
   "outputs": [
    {
     "name": "stdout",
     "output_type": "stream",
     "text": [
      "Original list:  ['Bike', 'For', 'Ceicket']\n",
      "New list :  ['Bike', 'For']\n"
     ]
    }
   ],
   "source": [
    "#26)How will you remove last object from a list? \n",
    "\n",
    "\"\"\" One way is to use the pop() method. This method removes the last element of a list by default,\n",
    "or you can specify the index of the element you want to remove. For example:\"\"\"\n",
    "\n",
    "li = [\"Bike\", \"For\", \"Ceicket\"]\n",
    "print(\"Original list: \", li)\n",
    "\n",
    "ele = li.pop()\n",
    "\n",
    "\n",
    "print(\"New list : \", li)\n"
   ]
  },
  {
   "cell_type": "code",
   "execution_count": 148,
   "id": "78e8ddf8-74bd-4537-a1e8-62fa6229e694",
   "metadata": {},
   "outputs": [
    {
     "name": "stdout",
     "output_type": "stream",
     "text": [
      "33\n"
     ]
    }
   ],
   "source": [
    "#27)Suppose list1 is [2, 33, 222, 14, and 25], what is list1 [-1]? \n",
    "\n",
    "\n",
    "list1 = [2, 33, 222, 14, 25]\n",
    "print(list1[1])\n",
    "#In Python list indexing starts at 0. \n",
    "#list1[1] refer to the second element in the list. Output given second element 33 Value provide ."
   ]
  },
  {
   "cell_type": "code",
   "execution_count": 150,
   "id": "8e801626-4a94-45f0-9114-81d0229d9864",
   "metadata": {},
   "outputs": [
    {
     "name": "stdout",
     "output_type": "stream",
     "text": [
      "[1, 2, 3, [4, 5]]\n",
      "[1, 2, 3, 4, 5]\n"
     ]
    }
   ],
   "source": [
    "#28)Differentiate between append () and extend () methods? \n",
    "\n",
    "\"\"\" In Python, the append() method adds a single item to the end of a list,\n",
    "while the extend() method adds multiple items from an iterable to the end of a list. \n",
    "-> Explanation:\n",
    "* Append(): Adds a single item to the end of a list. The item can be of any data type.\n",
    "\n",
    "* Extend(): Adds multiple items from an iterable to the end of a list. The iterable can be a list, tuple, or set.\n",
    "\n",
    "-> Examples:\n",
    "products.append(\"Apricots\") adds the item \"Apricots\" to the end of the list products\n",
    "products.extend([\"Apricots\", \"Mangoes\"]) adds the items \"Apricots\" and \"Mangoes\" to the end of the list products.\"\"\"\n",
    "\n",
    "lst1 = [1, 2, 3]\n",
    "lst1.append([4, 5])\n",
    "print(lst1)\n",
    "\n",
    "lst2 = [1, 2, 3]\n",
    "\n",
    "lst2.extend([4, 5])\n",
    "print(lst2)\n"
   ]
  },
  {
   "cell_type": "code",
   "execution_count": 174,
   "id": "8c8d382b-2ade-406e-8a17-540c7964a7be",
   "metadata": {},
   "outputs": [
    {
     "name": "stdin",
     "output_type": "stream",
     "text": [
      "Enter a list of numbers 4,7,9,10,45,21,46,67,23\n"
     ]
    },
    {
     "name": "stdout",
     "output_type": "stream",
     "text": [
      "Largest: 67\n",
      "Smallest: 4\n"
     ]
    }
   ],
   "source": [
    "#29)Write a Python function to get the largest number, smallest num and sum of all from a list. \n",
    "\n",
    "l=eval(input(\"Enter a list of numbers\"))\n",
    "# [4,7,9,10,45,21,46,67,23] --- input\n",
    "larg = l[0] # initialize with the first value\n",
    "small =l[0] # initialize with the first value\n",
    "\n",
    "for num in l:\n",
    "    if num > larg:\n",
    "        larg = num\n",
    "    if num < small:\n",
    "        smallest = num\n",
    "\n",
    "print(\"Largest:\", larg) \n",
    "print(\"Smallest:\", small) "
   ]
  },
  {
   "cell_type": "code",
   "execution_count": 176,
   "id": "5425aedf-b5ba-4686-990c-95e38fbb9e36",
   "metadata": {},
   "outputs": [
    {
     "name": "stdout",
     "output_type": "stream",
     "text": [
      "Check if Two Lists are equal :- True\n",
      "common value is:- {2, 3}\n"
     ]
    }
   ],
   "source": [
    "#30))How will you compare two lists?\n",
    "\n",
    "#example 1. :-\n",
    "lst1 = [1, 2, 3]\n",
    "lst2 = [1, 2, 3]\n",
    "lst3 = lst1 == lst2\n",
    "print(\"Check if Two Lists are equal :-\",lst3)\n",
    "\n",
    "#example 2. :-\n",
    "list1 = [1, 2, 3]\n",
    "list2 = [2, 3, 4]\n",
    "\n",
    "a = set(list1) & set(list2)\n",
    "print(\"common value is:-\",a)\n"
   ]
  },
  {
   "cell_type": "code",
   "execution_count": 178,
   "id": "8bbe6729-9115-4103-bd39-9b67f97083c7",
   "metadata": {},
   "outputs": [
    {
     "name": "stdout",
     "output_type": "stream",
     "text": [
      "2\n"
     ]
    }
   ],
   "source": [
    "\"\"\"#31)Write a Python program to count the number of strings where the string\n",
    "length is 2 or more and the first and last character are same from a given list\n",
    "of strings.\"\"\"\n",
    "\n",
    "def match_words(words):\n",
    "  ctr = 0\n",
    "\n",
    "  for word in words:\n",
    "    if len(word) > 1 and word[0] == word[-1]:\n",
    "      ctr += 1\n",
    "  return ctr\n",
    "\n",
    "print(match_words(['abc', 'xyz', 'aba', '1221']))\n",
    "\n"
   ]
  },
  {
   "cell_type": "code",
   "execution_count": 180,
   "id": "231801e9-e492-4954-a796-71163e36b258",
   "metadata": {},
   "outputs": [
    {
     "name": "stdout",
     "output_type": "stream",
     "text": [
      "remove duplicates from a list.: [1, 2, 3, 4, 5]\n"
     ]
    }
   ],
   "source": [
    "#32)Write a Python program to remove duplicates from a list. \n",
    "\n",
    "\n",
    "def remove_dup(my_lst):\n",
    "    unique_lst = []\n",
    "    \n",
    "    for item in my_lst:\n",
    "        if item not in unique_lst:\n",
    "            unique_lst.append(item)\n",
    "    \n",
    "    return unique_lst\n",
    "\n",
    "my_lst = [1, 2, 3, 2, 4, 5, 1]\n",
    "unique_lst = remove_dup(my_lst)\n",
    "print(\"remove duplicates from a list.:\", unique_lst)"
   ]
  },
  {
   "cell_type": "code",
   "execution_count": 192,
   "id": "292d86fd-12c8-418a-9df8-4e8e74e1ab53",
   "metadata": {},
   "outputs": [
    {
     "name": "stdout",
     "output_type": "stream",
     "text": [
      "list1 : list is NOT empty\n",
      "list2 : list is NOT empty\n"
     ]
    }
   ],
   "source": [
    "#33)Write a Python program to check a list is empty or not. \n",
    "\n",
    "\n",
    "def lst_empty(input_list):\n",
    "    if len(input_list) == 0:\n",
    "        return(\"list is empty\")\n",
    "    else:\n",
    "        return(\"list is NOT empty\")\n",
    "lst1 = [0,1,2,3]\n",
    "lst2 = []\n",
    "\n",
    "print(\"list1 :\", lst_empty(list1))\n",
    "print(\"list2 :\", lst_empty(list2))"
   ]
  },
  {
   "cell_type": "code",
   "execution_count": 194,
   "id": "05246004-e43c-4921-913b-1091432e0445",
   "metadata": {},
   "outputs": [
    {
     "name": "stdout",
     "output_type": "stream",
     "text": [
      "Common {3}\n"
     ]
    }
   ],
   "source": [
    "\"\"\" #34)Write a Python function that takes two lists and returns true if they\n",
    "have at least one common member.\"\"\"\n",
    "\n",
    "\n",
    "a = [1, 2, 3, 4]\n",
    "b = [5, 6, 3, 8]\n",
    "\n",
    "\n",
    "common = set(a) & set(b)\n",
    "\n",
    "\n",
    "if common:\n",
    "    print(\"Common\", common)\n",
    "else:\n",
    "    print(\"Not common.\")"
   ]
  },
  {
   "cell_type": "code",
   "execution_count": 196,
   "id": "5b554f1a-c1cf-4345-a78a-109a523d8830",
   "metadata": {},
   "outputs": [
    {
     "name": "stdout",
     "output_type": "stream",
     "text": [
      "[1, 4, 9, 16, 25]\n",
      "[676, 729, 784, 841, 900]\n"
     ]
    }
   ],
   "source": [
    "\"\"\"#35)Write a Python program to generate and print a list of first and last 5\n",
    "elements where the values are square of numbers between 1 and 30. \"\"\"\n",
    "\n",
    "\n",
    "\n",
    "def printValues():\n",
    "    \n",
    "    l = list()\n",
    "    # \n",
    "    for i in range(1, 31):\n",
    "        \n",
    "        l.append(i**2)\n",
    "    \n",
    "    print(l[:5])\n",
    "    \n",
    "    print(l[-5:])\n",
    "\n",
    "\n",
    "printValues()\n"
   ]
  },
  {
   "cell_type": "code",
   "execution_count": 198,
   "id": "5a8cfa97-c3e6-46c4-9938-c6d8d0cf9429",
   "metadata": {},
   "outputs": [
    {
     "name": "stdin",
     "output_type": "stream",
     "text": [
      "enter a total elements  in a list : 6\n",
      "enter a data list 1\n",
      "enter a data list 1\n",
      "enter a data list 2\n",
      "enter a data list 3\n",
      "enter a data list 4\n",
      "enter a data list 5\n"
     ]
    },
    {
     "name": "stdout",
     "output_type": "stream",
     "text": [
      "original list : [1, 1, 2, 3, 4, 5]\n",
      "[1, 2, 3, 4, 5]\n"
     ]
    }
   ],
   "source": [
    "#36)Write a Python function that takes a list and returns a new list with unique elements of the first list.\n",
    "\n",
    "def uniquelst(lst):\n",
    "    x = []\n",
    "    for h in lst:\n",
    "        if h not in x:\n",
    "            x.append(h)\n",
    "    return x\n",
    "datalist=[]\n",
    "n = int(input(\"enter a total elements  in a list :\"))\n",
    "for k in range(n):\n",
    "    data = int(input(\"enter a data list\"))\n",
    "    datalist.append(data)\n",
    "\n",
    "print(\"original list :\",datalist)\n",
    "print(uniquelst(datalist))\n",
    "\n"
   ]
  },
  {
   "cell_type": "code",
   "execution_count": 202,
   "id": "96c3a8bb-1212-4bea-a5bd-da0810366b27",
   "metadata": {},
   "outputs": [
    {
     "name": "stdout",
     "output_type": "stream",
     "text": [
      "DivyeshSopura\n"
     ]
    }
   ],
   "source": [
    "#37)Write a Python program to convert a list of characters into a string. \n",
    "\n",
    "a = ['D', 'i', 'v', 'y', 'e', 's', 'h']\n",
    "b = ['S', 'o', 'p', 'u', 'r', 'a']\n",
    "s = ''.join(a+b)\n",
    "\n",
    "print(s)"
   ]
  },
  {
   "cell_type": "code",
   "execution_count": 204,
   "id": "3745f4a5-7ca8-463e-96ff-83355f1200c3",
   "metadata": {},
   "outputs": [
    {
     "name": "stdout",
     "output_type": "stream",
     "text": [
      "Randomly selected item: date\n"
     ]
    }
   ],
   "source": [
    "#38) Write a Python program to select an item randomly from a list.\n",
    "\n",
    "import random\n",
    "\n",
    "def select_random(my_lst):\n",
    "    return random.choice(my_lst)\n",
    "\n",
    "my_lst = ['apple', 'banana', 'cherry', 'date', 'elderberry']\n",
    "item = select_random(my_lst)\n",
    "print(f\"Randomly selected item: {item}\")\n"
   ]
  },
  {
   "cell_type": "code",
   "execution_count": 208,
   "id": "dc3b69d9-e355-4104-892c-d71666165313",
   "metadata": {},
   "outputs": [
    {
     "name": "stdout",
     "output_type": "stream",
     "text": [
      "The second smallest number is: 50\n"
     ]
    }
   ],
   "source": [
    "#39)Write a Python program to find the second smallest number in a list. \n",
    "\n",
    "def second_Snumber(numbers):\n",
    "    sorted_numbers = sorted(numbers)\n",
    "    \n",
    "    smallest = sorted_numbers[0]\n",
    "    \n",
    "    for num in sorted_numbers:\n",
    "        if num > smallest:\n",
    "            return num    \n",
    "    return None\n",
    "\n",
    "numbers = [100, 500, 50, 400, 550, 1.6]\n",
    "second_smallest_No = second_Snumber(numbers)\n",
    "print(f\"The second smallest number is: {second_smallest_No}\")"
   ]
  },
  {
   "cell_type": "code",
   "execution_count": 210,
   "id": "69b067b3-dcae-49a2-ac88-a22a8993ede6",
   "metadata": {},
   "outputs": [
    {
     "name": "stdout",
     "output_type": "stream",
     "text": [
      "Unique values: [1, 2, 3, 4, 5, 6, 7]\n"
     ]
    }
   ],
   "source": [
    "#40)Write a Python program to get unique values from a list \n",
    "\n",
    "my_lst = [1, 1, 2, 3, 3, 4, 5, 5, 6, 7,7]\n",
    "unique_values = []\n",
    "\n",
    "for i in my_lst:\n",
    "    if i not in unique_values:\n",
    "        unique_values.append(i)\n",
    "\n",
    "print(\"Unique values:\", unique_values)"
   ]
  },
  {
   "cell_type": "code",
   "execution_count": 212,
   "id": "64781bea-49f8-4e28-90f8-02c324a7b353",
   "metadata": {},
   "outputs": [
    {
     "name": "stdout",
     "output_type": "stream",
     "text": [
      "True\n",
      "False\n"
     ]
    }
   ],
   "source": [
    "#41)Write a Python program to check whether a list contains a sub list\n",
    "\n",
    "\n",
    "def is_Sublist(l, s):\n",
    "    sub_set = False  \n",
    "    if s == []:\n",
    "        sub_set = True\n",
    "    elif s == l:\n",
    "        sub_set = True\n",
    "    elif len(s) > len(l):\n",
    "        sub_set = False\n",
    "    else:\n",
    "        for i in range(len(l)):\n",
    "            if l[i] == s[0]:\n",
    "                n = 1\n",
    "                while (n < len(s)) and (l[i + n] == s[n]):\n",
    "                    n += 1\n",
    "\n",
    "                if n == len(s):\n",
    "                    sub_set = True\n",
    "\n",
    "    return sub_set\n",
    "\n",
    "a = [2, 4, 3, 5, 7]\n",
    "b = [4, 3]\n",
    "c = [3, 7]\n",
    "\n",
    "print(is_Sublist(a, b))\n",
    "\n",
    "print(is_Sublist(a, c)) \n"
   ]
  },
  {
   "cell_type": "code",
   "execution_count": 214,
   "id": "9ca2c903-16ef-4f7e-ae10-4e6a8bcf3122",
   "metadata": {},
   "outputs": [
    {
     "name": "stdout",
     "output_type": "stream",
     "text": [
      "a: 1\n",
      "b: 2\n",
      "c: 3\n",
      "d: 4\n",
      "e: 5\n"
     ]
    }
   ],
   "source": [
    "#42)Write a Python program to split a list into different variables. \n",
    "\n",
    "lst = [1, 2, 3, 4, 5]\n",
    "\n",
    "a, b, c, d, e = lst\n",
    "\n",
    "print(\"a:\", a)\n",
    "print(\"b:\", b)\n",
    "print(\"c:\", c)\n",
    "print(\"d:\", d)\n",
    "print(\"e:\", e)"
   ]
  },
  {
   "cell_type": "code",
   "execution_count": null,
   "id": "ea2a03f8-0000-473f-af10-054eb30ff299",
   "metadata": {},
   "outputs": [],
   "source": [
    "#43)What is tuple? Difference between list and tuple. \n",
    "\n",
    "\"\"\"-> Tuple is a collection of objects separated by commas. \n",
    "      A tuple is similar to a Python list in terms of indexing, nested objects, \n",
    "      and repetition but the main difference between both is\n",
    "     Python tuple is immutable, unlike the Python list which is mutable.\n",
    "\n",
    " => List is a collection which is ordered and changeable. Allows duplicate members.\n",
    " => Tuple is a collection which is ordered and unchangeable.  "
   ]
  },
  {
   "cell_type": "code",
   "execution_count": 218,
   "id": "07a745bd-a1ae-457b-a918-d03cd973ce76",
   "metadata": {},
   "outputs": [
    {
     "name": "stdout",
     "output_type": "stream",
     "text": [
      " i have create a tuple with diffrent data types : ('div', 22, 99.99, True)\n"
     ]
    }
   ],
   "source": [
    "#44)Write a Python program to create a tuple with different data types. \n",
    "\n",
    "my_tupl = (\"div\",22,99.99,True)\n",
    "\n",
    "print(\" i have create a tuple with diffrent data types :\",my_tupl)"
   ]
  },
  {
   "cell_type": "code",
   "execution_count": 220,
   "id": "a930a475-5798-4fcb-9cbd-b6dada889bea",
   "metadata": {},
   "outputs": [
    {
     "name": "stdout",
     "output_type": "stream",
     "text": [
      "Unzipped lists:\n",
      "(1, 2, 3, 4)\n",
      "('a', 'b', 'c', 'd')\n"
     ]
    }
   ],
   "source": [
    "#45)Write a Python program to unzip a list of tuples into individual lists. \n",
    "\n",
    "\n",
    "def unzip_lst(my_lsts):\n",
    "    unzipped_lists = list(zip(*my_lsts))\n",
    "    return unzipped_lists\n",
    "\n",
    "my_lsts = [(1, 'a'), (2, 'b'), (3, 'c'), (4, 'd')]\n",
    "unzipped_lists = unzip_lst(my_lsts)\n",
    "\n",
    "print(\"Unzipped lists:\")\n",
    "for l in unzipped_lists:\n",
    "    print(l)"
   ]
  },
  {
   "cell_type": "code",
   "execution_count": 222,
   "id": "f6a2f7c4-4d10-4bdb-af5f-234320d0d507",
   "metadata": {},
   "outputs": [
    {
     "name": "stdout",
     "output_type": "stream",
     "text": [
      "Dictionary: {'a': 1, 'b': 2, 'c': 3, 'd': 4, 'e': 5, 'f': 6, 'g': 7}\n"
     ]
    }
   ],
   "source": [
    "#46)Write a Python program to convert a list of tuples into a dictionary.\n",
    "\n",
    "lst = [('a', 1), ('b', 2), ('c', 3), ('d', 4),('e',5),('f',6),('g',7)]\n",
    "\n",
    "dictionary = dict(lst)\n",
    "\n",
    "print(\"Dictionary:\", dictionary)"
   ]
  },
  {
   "cell_type": "code",
   "execution_count": 224,
   "id": "db5ed7f1-0745-4d7b-8835-41716a8fe083",
   "metadata": {},
   "outputs": [
    {
     "name": "stdout",
     "output_type": "stream",
     "text": [
      "{'age': 21, 'marks': 80, 'Name': 'xyz'}\n"
     ]
    }
   ],
   "source": [
    "#47)How will you create a dictionary using tuples in python?\n",
    "\n",
    "\"\"\" 1st way:- Using a List of Tuples create a list of tuples, where each tuple contains a key and a value,\n",
    "          and then pass this list to the dict() function.\n",
    "\n",
    "2nd way :- Using Tuple of Tuples\n",
    "\n",
    "3rd way :- Using Dictionary  with Tuples \"\"\"\n",
    "\n",
    "#example :-\n",
    "\n",
    "tup = ((\"age\", 21), (\"marks\", 80), (\"Name\", \"xyz\"))\n",
    "dictionary = dict(tup)\n",
    "print(dictionary)\n"
   ]
  },
  {
   "cell_type": "code",
   "execution_count": 226,
   "id": "2a4fd24d-57d5-474c-9966-02deb01c3250",
   "metadata": {},
   "outputs": [
    {
     "name": "stdout",
     "output_type": "stream",
     "text": [
      "Dictionary sorted in ascending order by value: {'A': 1, 'C': 2, 'G': 3, 'B': 5, 'D': 8}\n",
      "Dictionary sorted in descending order by value: {'D': 8, 'B': 5, 'G': 3, 'C': 2, 'A': 1}\n"
     ]
    }
   ],
   "source": [
    "#48)Write a Python script to sort (ascending and descending) a dictionary by valu.\n",
    "\n",
    "dictionary = {'B': 5, 'C': 2, 'D': 8, 'A': 1, 'G':3}\n",
    "\n",
    "sorted_asc = dict(sorted(dictionary.items(), key=lambda item: item[1]))\n",
    "\n",
    "sorted_desc = dict(sorted(dictionary.items(), key=lambda item: item[1], reverse=True))\n",
    "\n",
    "print(\"Dictionary sorted in ascending order by value:\", sorted_asc)\n",
    "print(\"Dictionary sorted in descending order by value:\", sorted_desc)\n"
   ]
  },
  {
   "cell_type": "code",
   "execution_count": 228,
   "id": "463b2899-34d4-4ad3-bfd7-d33e05d922be",
   "metadata": {},
   "outputs": [
    {
     "name": "stdout",
     "output_type": "stream",
     "text": [
      "{'B': 5, 'C': 2, 'D': 8, 'A': 1, 'G': 3}\n"
     ]
    }
   ],
   "source": [
    "#49)Write a Python script to concatenate following dictionaries to create a new one. \n",
    "\n",
    "dict1 = {'B': 5, 'C': 2}\n",
    "dict2 = {'D': 8, 'A': 1, 'G':3}\n",
    "\n",
    "new_dictionaries = {**dict1, **dict2}\n",
    "\n",
    "print(new_dictionaries)\n"
   ]
  },
  {
   "cell_type": "code",
   "execution_count": 230,
   "id": "df73e586-e243-499c-a8e6-2372d72cfdf5",
   "metadata": {},
   "outputs": [
    {
     "name": "stdout",
     "output_type": "stream",
     "text": [
      "True\n",
      "False\n"
     ]
    }
   ],
   "source": [
    "#50)Write a Python script to check if a given key already exists in a dictionary. \n",
    "\n",
    "\n",
    "d = {'a': 1, 'b': 2, 'c': 3}\n",
    "\n",
    "\n",
    "key = 'b'\n",
    "print(key in d)  \n",
    "\n",
    "key = 'g'\n",
    "print(key in d)  "
   ]
  },
  {
   "cell_type": "code",
   "execution_count": 236,
   "id": "b892fc82-5d3e-45ff-b143-785d297ae7b6",
   "metadata": {},
   "outputs": [
    {
     "name": "stdout",
     "output_type": "stream",
     "text": [
      "a\n",
      "b\n",
      "c\n",
      "1\n",
      "2\n",
      "3\n",
      "{'a'} {1}\n",
      "{'b'} {2}\n",
      "{'c'} {3}\n"
     ]
    }
   ],
   "source": [
    "#51)How Do You Traverse Through a Dictionary Object in Python?\n",
    "\n",
    "\"\"\"-> Dictionary in Python is a collection of data values, used to store data values, other Data Types that hold\n",
    "   only a single value as an element, Dictionary holds the key: value pair in Python. \n",
    "   To Iterate through values in a dictionary use built-in methods like values(), items() or even directly iterate\n",
    "   over the dictionary to access values with keys.\n",
    "   iterate through the keys of the dictionary using a for loop.\"\"\"\n",
    "\n",
    "\n",
    "data = {'a': 1, 'b': 2, 'c': 3}\n",
    "\n",
    "for key in data:\n",
    "    print(key)\n",
    "\n",
    "for value in data.values():\n",
    "    print(value)\n",
    "\n",
    "for key, value in data.items():\n",
    "    print( {key}, {value})\n"
   ]
  },
  {
   "cell_type": "code",
   "execution_count": 242,
   "id": "da65578e-9f3c-4b4a-874a-851aa972c35a",
   "metadata": {},
   "outputs": [
    {
     "name": "stdout",
     "output_type": "stream",
     "text": [
      "age key is present in the dictionary.\n"
     ]
    }
   ],
   "source": [
    "#52)How Do You Check the Presence of a Key in A Dictionary? \n",
    "\n",
    "\"\"\" 1. Using the in Operator. The most straightforward and Pythonic way to check if a key exists in a dictionary is to use the in operator.\n",
    "2. Using the dict. get() Method.\n",
    "3. Using the dict. keys() Method.\"\"\"\n",
    "\n",
    "my_details = {'name': 'Dev', 'age': 28, 'city': 'Ahmedabad'}\n",
    "\n",
    "if 'age' in my_details:\n",
    "    print(\"age key is present in the dictionary.\")\n",
    "else:\n",
    "    print(\"age key is not present in the dictionary.\")\n"
   ]
  },
  {
   "cell_type": "code",
   "execution_count": 244,
   "id": "201b4d3e-fb9a-40c2-a09e-93cb48ed7353",
   "metadata": {},
   "outputs": [
    {
     "name": "stdout",
     "output_type": "stream",
     "text": [
      "{1: 1, 2: 4, 3: 9, 4: 16, 5: 25, 6: 36, 7: 49, 8: 64, 9: 81, 10: 100, 11: 121, 12: 144, 13: 169, 14: 196, 15: 225}\n"
     ]
    }
   ],
   "source": [
    "#53)Write a Python script to print a dictionary where the keys are numbers between 1 and 15?\n",
    "\n",
    "\n",
    "d = dict()\n",
    "\n",
    "\n",
    "for x in range(1, 16):\n",
    "    \n",
    "    d[x] = x ** 2\n",
    "\n",
    "print(d)\n",
    "\n"
   ]
  },
  {
   "cell_type": "code",
   "execution_count": 248,
   "id": "e1c1d2bc-e145-4db8-9f04-cfeaac4d430d",
   "metadata": {},
   "outputs": [
    {
     "name": "stdout",
     "output_type": "stream",
     "text": [
      "True\n",
      "False\n"
     ]
    }
   ],
   "source": [
    "#54)Write a Python program to check multiple keys exists in a dictionary\n",
    "\n",
    "student = {\n",
    "    \"Name\" : \"div\",\n",
    "    \"age\" : 28,\n",
    "    \"id\" : 2\n",
    "}\n",
    "\n",
    "print(student.keys() >= {\"Name\",\"Name\"})\n",
    "print(student.keys() >= {\"id\",\"ram\"})"
   ]
  },
  {
   "cell_type": "code",
   "execution_count": 251,
   "id": "78b4e16a-a524-4e9a-a809-df12d5a59d1f",
   "metadata": {},
   "outputs": [
    {
     "name": "stdout",
     "output_type": "stream",
     "text": [
      "{'a': 100, 'b': 200, 'x': 300, 'y': 200}\n"
     ]
    }
   ],
   "source": [
    "#55)Write a Python script to merge two Python dictionaries \n",
    "\n",
    "\n",
    "d1 = {'a': 100, 'b': 200}\n",
    "\n",
    "d2 = {'x': 300, 'y': 200}\n",
    "\n",
    "d = d1.copy()\n",
    "\n",
    "d.update(d2)\n",
    "\n",
    "print(d) \n"
   ]
  },
  {
   "cell_type": "code",
   "execution_count": 255,
   "id": "3bae54a6-b916-4e6a-b2cb-7058ad200180",
   "metadata": {},
   "outputs": [
    {
     "name": "stdout",
     "output_type": "stream",
     "text": [
      "{'a': 400, 'b': 400, 'd': 400, 'c': 300}\n"
     ]
    }
   ],
   "source": [
    "\"\"\"#56)Write a Python program to map two lists into a dictionary\n",
    "Sample output: Counter ({'a': 400, 'b': 400,’d’: 400, 'c': 300}).\"\"\"\n",
    "\n",
    "lst1 = [ \"a\" , \"b\" , \"d\" , \"c\" ]\n",
    "lst2 = [ 400, 400, 400, 300 ]\n",
    "\n",
    "lists = dict(zip(lst1,lst2))\n",
    "\n",
    "print(lists)"
   ]
  },
  {
   "cell_type": "code",
   "execution_count": 257,
   "id": "59c68232-4491-41e8-8c0a-8ad63298ff95",
   "metadata": {},
   "outputs": [
    {
     "name": "stdout",
     "output_type": "stream",
     "text": [
      "['b', 'e', 'c']\n"
     ]
    }
   ],
   "source": [
    "#57)Write a Python program to find the highest 3 values in a dictionary \n",
    "\n",
    "\n",
    "from heapq import nlargest\n",
    "\n",
    "my_dict = {'a': 500, 'b': 5874, 'c': 560, 'd': 400, 'e': 5874, 'f': 20}\n",
    "\n",
    "three_largest = nlargest(3, my_dict, key=my_dict.get)\n",
    "\n",
    "print(three_largest)\n"
   ]
  },
  {
   "cell_type": "code",
   "execution_count": 259,
   "id": "aea26c63-1ac9-4f05-9f4f-83008e3cbf2c",
   "metadata": {},
   "outputs": [
    {
     "name": "stdout",
     "output_type": "stream",
     "text": [
      "Counter({'item1': 1150, 'item2': 300})\n"
     ]
    }
   ],
   "source": [
    "\"\"\"#58)Write a Python program to combine values in python list of dictionaries.\n",
    "Sample data: [{'item': 'item1', 'amount': 400}, {'item': 'item2', 'amount':\n",
    "300}, o {'item': 'item1', 'amount': 750}]\n",
    "Expected Output:\n",
    "• Counter ({'item1': 1150, 'item2': 300})\"\"\"\n",
    "\n",
    "\n",
    "\n",
    "from collections import Counter\n",
    "\n",
    "item_list = [{'item': 'item1', 'amount': 400}, {'item': 'item2', 'amount': 300}, {'item': 'item1', 'amount': 750}]\n",
    "\n",
    "result = Counter()\n",
    "for d in item_list:\n",
    "    \n",
    "    result[d['item']] += d['amount']\n",
    "\n",
    "print(result) \n"
   ]
  },
  {
   "cell_type": "code",
   "execution_count": 263,
   "id": "7c1973d2-dedc-49be-8562-8b5cde298186",
   "metadata": {},
   "outputs": [
    {
     "name": "stdout",
     "output_type": "stream",
     "text": [
      "{'N': 1, 'e': 3, 'v': 2, 'r': 1, ' ': 2, 'G': 1, 'i': 1, 'U': 1, 'p': 1}\n"
     ]
    }
   ],
   "source": [
    "\"\"\" #59)Write a Python program to create a dictionary from a string.\n",
    "Note: Track the count of the letters from the string.\"\"\"\n",
    "\n",
    "\n",
    "from collections import defaultdict, Counter\n",
    "\n",
    "str1 = 'Never Give Up'\n",
    "\n",
    "my_dict = {}\n",
    "\n",
    "for letter in str1:\n",
    "\n",
    "    my_dict[letter] = my_dict.get(letter, 0) + 1\n",
    "\n",
    "print(my_dict) \n"
   ]
  },
  {
   "cell_type": "code",
   "execution_count": 265,
   "id": "6fca8e75-3c0e-4e2a-97c3-e7142d895fe5",
   "metadata": {},
   "outputs": [
    {
     "name": "stdout",
     "output_type": "stream",
     "text": [
      "{'w': 1, '3': 1, 'r': 2, 'e': 2, 's': 1, 'o': 1, 'u': 1, 'c': 1}\n"
     ]
    }
   ],
   "source": [
    "\"\"\"#60)Sample string:\n",
    " 'w3resource' Expected output:\n",
    "• {'3': 1,’s’: 1, 'r': 2, 'u': 1, 'w': 1, 'c': 1, 'e': 2, 'o': 1}\"\"\"\n",
    "\n",
    "\n",
    "from collections import defaultdict, Counter\n",
    "\n",
    "str1 = 'w3resource'\n",
    "\n",
    "my_dict = {}\n",
    "\n",
    "for letter in str1:\n",
    "    my_dict[letter] = my_dict.get(letter, 0) + 1\n",
    "\n",
    "print(my_dict) \n",
    "\n"
   ]
  },
  {
   "cell_type": "code",
   "execution_count": 267,
   "id": "9761949e-ff16-467b-9137-0a39424e707b",
   "metadata": {},
   "outputs": [
    {
     "name": "stdin",
     "output_type": "stream",
     "text": [
      "Input a number to compute the factorial:  5\n"
     ]
    },
    {
     "name": "stdout",
     "output_type": "stream",
     "text": [
      "120\n"
     ]
    }
   ],
   "source": [
    "#61)Write a Python function to calculate the factorial of a number (anonnegative integer) \n",
    "\n",
    "\n",
    "def factorial(n):\n",
    "    \n",
    "    if n == 0:\n",
    "        \n",
    "        return 1\n",
    "    else:\n",
    "        \n",
    "        return n * factorial(n - 1)\n",
    "\n",
    "n = int(input(\"Input a number to compute the factorial: \"))\n",
    "\n",
    "print(factorial(n))\n"
   ]
  },
  {
   "cell_type": "code",
   "execution_count": 282,
   "id": "9f959c1f-9300-4d9c-9e3a-d59b0e4d9cc4",
   "metadata": {},
   "outputs": [
    {
     "name": "stdout",
     "output_type": "stream",
     "text": [
      "0\n",
      "1\n",
      "2\n",
      "3\n",
      "4\n",
      "5\n"
     ]
    }
   ],
   "source": [
    "#62)Write a Python function to check whether a number is in a given range \n",
    "\n",
    "\n",
    "\n",
    "x = range(6)\n",
    "for n in x:\n",
    "  print(n)"
   ]
  },
  {
   "cell_type": "code",
   "execution_count": 284,
   "id": "8f980033-9721-469e-a252-1e8a27827147",
   "metadata": {},
   "outputs": [
    {
     "name": "stdout",
     "output_type": "stream",
     "text": [
      "True\n"
     ]
    }
   ],
   "source": [
    "#63)Write a Python function to check whether a number is perfect or not\n",
    "\n",
    "\n",
    "\n",
    "def perfect_number(n):\n",
    "    sum = 0\n",
    "    \n",
    "    for x in range(1, n):\n",
    "        \n",
    "        if n % x == 0:\n",
    "            \n",
    "            sum += x\n",
    "    \n",
    "    \n",
    "    return sum == n\n",
    "\n",
    "print(perfect_number(6)) \n"
   ]
  },
  {
   "cell_type": "code",
   "execution_count": 290,
   "id": "f8fc33af-b236-4ad9-8443-14ae06aafc9b",
   "metadata": {},
   "outputs": [
    {
     "name": "stdout",
     "output_type": "stream",
     "text": [
      "False\n",
      "True\n",
      "True\n",
      "True\n"
     ]
    }
   ],
   "source": [
    "#64)Write a Python function that checks whether a passed string is palindrome or not?\n",
    "\n",
    " \n",
    "def palindrome(i):\n",
    "    i = i.lower()\n",
    "    return i == i[::-1]\n",
    "\n",
    "print(palindrome(\"hello\"))    \n",
    "print(palindrome(\"Madam\"))    \n",
    "print(palindrome(\"Helleh\"))\n",
    "print(palindrome(\"anna\"))"
   ]
  },
  {
   "cell_type": "code",
   "execution_count": 294,
   "id": "37b41f56-094c-46a4-a243-8ad1ca48aa27",
   "metadata": {},
   "outputs": [
    {
     "ename": "SyntaxError",
     "evalue": "invalid syntax (2405091596.py, line 3)",
     "output_type": "error",
     "traceback": [
      "\u001b[1;36m  Cell \u001b[1;32mIn[294], line 3\u001b[1;36m\u001b[0m\n\u001b[1;33m    Python has three basic types of functions:\u001b[0m\n\u001b[1;37m           ^\u001b[0m\n\u001b[1;31mSyntaxError\u001b[0m\u001b[1;31m:\u001b[0m invalid syntax\n"
     ]
    }
   ],
   "source": [
    "#65)How Many Basic Types of Functions Are Available in Python?\n",
    "\n",
    "Python has three basic types of functions:\n",
    "\n",
    "=> Built-in functions: These are functions that come with Python. For example, str, tuple, list, and dict are built-in functions that define data types. \n",
    "\n",
    "=> User-defined functions: These are functions that are defined by the user. \n",
    "\n",
    "=>Anonymous functions: Also known as lambda functions, these are functions that are used for simple operations. \n",
    "\n",
    "* Other types of functions in Python include: \n",
    "\n",
    "=> Docstrings: These are literal strings that document functions, classes, modules, or methods. \n",
    "\n",
    "=> Higher-order functions: These functions take other functions as arguments or return functions as output. \n",
    "\n",
    "=> Statistical functions: These functions include mean(), median(), mode(), and multimode(). \n"
   ]
  },
  {
   "cell_type": "code",
   "execution_count": 296,
   "id": "471eb87a-dd39-4c2f-aaef-a07c1a4401c9",
   "metadata": {},
   "outputs": [
    {
     "name": "stdout",
     "output_type": "stream",
     "text": [
      "3\n",
      "4\n"
     ]
    }
   ],
   "source": [
    "#66)How can you pick a random item from a list or tuple? \n",
    "\n",
    "import random\n",
    "\n",
    "lst = [1, 2, 3, 4, 5]\n",
    "random_List_item = random.choice(lst)\n",
    "print(random_List_item)\n",
    "\n",
    "    #2nd Example with tuple\n",
    "\n",
    "tup = (1, 2, 3, 4, 5)\n",
    "random_Tuple_item = random.choice(tup)\n",
    "print(random_Tuple_item)"
   ]
  },
  {
   "cell_type": "code",
   "execution_count": 298,
   "id": "e9563851-b318-4a52-83a8-7d31998d931f",
   "metadata": {},
   "outputs": [
    {
     "name": "stdout",
     "output_type": "stream",
     "text": [
      "1\n"
     ]
    }
   ],
   "source": [
    "#67)How can you pick a random item from a range?\n",
    "\n",
    "import random\n",
    "\n",
    "start = 1\n",
    "end = 10\n",
    "\n",
    "random_num = random.randrange(start, end)\n",
    "\n",
    "print(random_num)"
   ]
  },
  {
   "cell_type": "code",
   "execution_count": 300,
   "id": "71df9e1e-49bc-4dca-b863-4a5dfdc32d77",
   "metadata": {},
   "outputs": [
    {
     "name": "stdout",
     "output_type": "stream",
     "text": [
      "1\n",
      "0.4366089268480775\n",
      "57\n"
     ]
    }
   ],
   "source": [
    "#68)How can you get a random number in python? \n",
    "\n",
    "import random\n",
    "\n",
    "#1st way\n",
    "\n",
    "random_num = random.randrange(1, 100)\n",
    "\n",
    "print(random_num)\n",
    "\n",
    "#2nd way\n",
    "\n",
    "random_num1 = random.random()\n",
    "print(random_num1)\n",
    "\n",
    "#3rd way\n",
    "\n",
    "random_int = random.randint(1, 100)\n",
    "print(random_int)\n"
   ]
  },
  {
   "cell_type": "code",
   "execution_count": 318,
   "id": "9e49594a-2e77-416d-b9c9-70d4e6809f2e",
   "metadata": {},
   "outputs": [
    {
     "name": "stdout",
     "output_type": "stream",
     "text": [
      "68\n"
     ]
    }
   ],
   "source": [
    "#69)How will you set the starting value in generating random numbers?\n",
    "\n",
    "import random\n",
    "\n",
    "random_num = random.randint(1,150)\n",
    "print(random_num)"
   ]
  },
  {
   "cell_type": "code",
   "execution_count": 320,
   "id": "1934585e-cd8e-4f39-b601-eb378c372f77",
   "metadata": {},
   "outputs": [
    {
     "name": "stdout",
     "output_type": "stream",
     "text": [
      "[1, 4, 3, 2, 5]\n"
     ]
    }
   ],
   "source": [
    "#70) How will you randomize the items of a list in place? \n",
    "\n",
    "import random\n",
    "\n",
    "lst = [1, 2, 3, 4, 5]\n",
    "\n",
    "random.shuffle(lst)\n",
    "print(lst)"
   ]
  },
  {
   "cell_type": "code",
   "execution_count": 322,
   "id": "2f07a9ab-10ae-4f36-99db-b3b7a50b84c6",
   "metadata": {},
   "outputs": [
    {
     "ename": "SyntaxError",
     "evalue": "unterminated triple-quoted string literal (detected at line 17) (2592537380.py, line 17)",
     "output_type": "error",
     "traceback": [
      "\u001b[1;36m  Cell \u001b[1;32mIn[322], line 17\u001b[1;36m\u001b[0m\n\u001b[1;33m    \"rb\" & \"wb\" - Binary mode. This is used to read or write binary files. \"\"\"\u001b[0m\n\u001b[1;37m                                                                           ^\u001b[0m\n\u001b[1;31mSyntaxError\u001b[0m\u001b[1;31m:\u001b[0m unterminated triple-quoted string literal (detected at line 17)\n"
     ]
    }
   ],
   "source": [
    "#71)What is File function in python? What are keywords to create and write file. \n",
    "\n",
    "To create a new file in Python, use the open() method, with one of the following parameters:\n",
    "\"x\" - Create - will create a file, returns an error if the file exists.\n",
    "\"a\" - Append - will create a file if the specified file does not exists. \n",
    "\"w\" - Write - will create a file if the specified file does not exists.\n",
    "\n",
    "-> In Python built-in open() function is used to work with files and create. The open() function allows you to open a file,\n",
    "   returning a file object that you can use to read or write a file.\n",
    "\n",
    "   When opening a file with open(), you can specify the mode in which the file is opened. Some of the most common modes include:\n",
    "\n",
    "\"r\" - Read mode. This is the default mode. The file is opened for reading and error occurs if the file does not exist.\n",
    "\"w\" - Write mode. Opens a file for writing. If the file does not exist, it creates a new file. If the file exists, \n",
    "      first content delete of file and before writing to it.\n",
    "\"a\" - append mode. Opens a file for writing & appending to the end of the file.\n",
    "\"rb\" & \"wb\" - Binary mode. This is used to read or write binary files. \"\"\"\n"
   ]
  },
  {
   "cell_type": "code",
   "execution_count": 332,
   "id": "c1262e7c-697e-43ee-8679-f31aa183c9d2",
   "metadata": {},
   "outputs": [
    {
     "name": "stdout",
     "output_type": "stream",
     "text": [
      "Output of Read function is \n",
      "Hello \n",
      "This is Delhi \n",
      "This is Paris \n",
      "This is London \n",
      "\n",
      "\n",
      "Output of Readline function is \n",
      "Hello \n",
      "\n",
      "\n",
      "Output of Read(9) function is \n",
      "Hello \n",
      "Th\n",
      "\n",
      "Output of Readline(9) function is \n",
      "Hello \n",
      "\n",
      "Output of Readlines function is \n",
      "['Hello \\n', 'This is Delhi \\n', 'This is Paris \\n', 'This is London \\n']\n",
      "\n"
     ]
    }
   ],
   "source": [
    "#72)Write a Python program to read an entire text file. \n",
    "\n",
    "file1 = open(\"myfile.txt\", \"w\")\n",
    "L = [\"This is Delhi \\n\", \"This is Paris \\n\", \"This is London \\n\"]\n",
    "\n",
    "\n",
    "file1.write(\"Hello \\n\")\n",
    "file1.writelines(L)\n",
    "file1.close()  \n",
    "\n",
    "file1 = open(\"myfile.txt\", \"r+\")\n",
    "\n",
    "print(\"Output of Read function is \")\n",
    "print(file1.read())\n",
    "print()\n",
    "\n",
    "file1.seek(0)\n",
    "\n",
    "print(\"Output of Readline function is \")\n",
    "print(file1.readline())\n",
    "print()\n",
    "\n",
    "file1.seek(0)\n",
    "\n",
    "print(\"Output of Read(9) function is \")\n",
    "print(file1.read(9))\n",
    "print()\n",
    "\n",
    "file1.seek(0)\n",
    "\n",
    "print(\"Output of Readline(9) function is \")\n",
    "print(file1.readline(9))\n",
    "\n",
    "file1.seek(0)\n",
    "print(\"Output of Readlines function is \")\n",
    "print(file1.readlines())\n",
    "print()\n",
    "file1.close()\n",
    "\n",
    "\n"
   ]
  },
  {
   "cell_type": "code",
   "execution_count": 334,
   "id": "c8f192c2-e310-4302-9a1d-882abdcd4dc1",
   "metadata": {},
   "outputs": [
    {
     "name": "stdout",
     "output_type": "stream",
     "text": [
      "This is the new text to append.\n",
      "\n"
     ]
    }
   ],
   "source": [
    "#73)Write a Python program to append text to a file and display the text. \n",
    "\n",
    "def append_to_file(filename, text_to_append):\n",
    "    file = open(filename, 'a')\n",
    "    file.write(text_to_append + '\\n')\n",
    "    \n",
    "    file.close()\n",
    "\n",
    "def display_file_contents(filename):\n",
    "    file = open(filename, 'r')\n",
    "    \n",
    "    file_content = file.read()\n",
    "    file.close()\n",
    "    \n",
    "    return file_content\n",
    "\n",
    "filename = \"fruit1.txt\"\n",
    "text_to_append = \"This is the new text to append.\"\n",
    "append_to_file(filename, text_to_append)\n",
    "\n",
    "file_contents = display_file_contents(filename)\n",
    "\n",
    "print(file_contents)\n"
   ]
  },
  {
   "cell_type": "code",
   "execution_count": 355,
   "id": "f2f985ca-27a7-4ae2-9e82-dd0a36b054d5",
   "metadata": {},
   "outputs": [
    {
     "name": "stdout",
     "output_type": "stream",
     "text": [
      "File not found\n"
     ]
    }
   ],
   "source": [
    "#74)Write a Python program to read first n lines of a file. \n",
    "\n",
    "\n",
    "\n",
    "def LastNlines(fname, N):\n",
    "\t\n",
    "\twith open(fname) as file:\n",
    "\t\t\n",
    "\t\n",
    "\t\tfor line in (file.readlines() [-N:]):\n",
    "\t\t\tprint(line, end ='')\n",
    "\n",
    "\n",
    "\n",
    "if __name__ == '__main__':\n",
    "\tfname = 'File1.txt'\n",
    "\tN = 3\n",
    "\ttry:\n",
    "\t\tLastNlines(fname, N)\n",
    "\texcept:\n",
    "\t\tprint('File not found')\n",
    "\n",
    "\n"
   ]
  },
  {
   "cell_type": "code",
   "execution_count": 359,
   "id": "2fbd05ef-2a16-45b4-8dcf-d8ea4be88281",
   "metadata": {},
   "outputs": [
    {
     "name": "stdout",
     "output_type": "stream",
     "text": [
      "File not found\n"
     ]
    }
   ],
   "source": [
    "#75)Write a Python program to read last n lines of a file. \n",
    "\n",
    "\n",
    "import os\n",
    "\n",
    "\n",
    "def LastNlines(fname, N):\n",
    "\t\n",
    "\tbufsize = 8192\n",
    "\t\n",
    "\t\n",
    "\tfsize = os.stat(fname).st_size\n",
    "\t\n",
    "\titer = 0\n",
    "\t\n",
    "\t\n",
    "\twith open(fname) as f:\n",
    "\t\tif bufsize > fsize:\n",
    "\t\t\t\t\n",
    "\t\t\t\n",
    "\t\t\tbufsize = fsize-1\n",
    "\t\t\t\n",
    "\t\t\t\n",
    "\t\t\tfetched_lines = []\n",
    "\t\t\t\n",
    "\t\t\t\n",
    "\t\t\twhile True:\n",
    "\t\t\t\titer += 1\n",
    "\t\t\t\t\n",
    "\t\t\t\t\n",
    "\t\t\t\tf.seek(fsize-bufsize * iter)\n",
    "\t\t\t\t\n",
    "\t\t\t\t\n",
    "\t\t\t\tfetched_lines.extend(f.readlines())\n",
    "\t\t\t\t\n",
    "\t\t\t\t\n",
    "\t\t\t\tif len(fetched_lines) >= N or f.tell() == 0:\n",
    "\t\t\t\t\t\tprint(''.join(fetched_lines[-N:]))\n",
    "\t\t\t\t\t\tbreak\n",
    "\t\t\t\t\t\t\n",
    "\n",
    "if __name__ == '__main__':\n",
    "\t\n",
    "\tfname = 'File1.txt'\n",
    "\tN = 3\n",
    "\t\n",
    "\ttry:\n",
    "\t\tLastNlines(fname, N)\n",
    "\texcept:\n",
    "\t\tprint('File not found')\n"
   ]
  },
  {
   "cell_type": "code",
   "execution_count": 369,
   "id": "a8c2aad0-ea1c-4c88-b685-3e6efaf93b73",
   "metadata": {},
   "outputs": [
    {
     "name": "stdout",
     "output_type": "stream",
     "text": [
      "['Geeks\\n', 'for\\n', 'Geeks\\n']\n",
      "['Geeks', 'for', 'Geeks']\n"
     ]
    }
   ],
   "source": [
    "#76)Write a Python program to read a file line by line and store it into a list \n",
    "\n",
    "\n",
    "\n",
    "with open('myfile.txt') as f:\n",
    "    lines = [line for line in f]\n",
    "\n",
    "print(lines)\n",
    "\n",
    "\n",
    "with open('myfile.txt') as f:\n",
    "    lines = [line.rstrip() for line in f]\n",
    "\n",
    "print(lines)\n",
    "\n"
   ]
  },
  {
   "cell_type": "code",
   "execution_count": 373,
   "id": "797f14db-f972-4bef-b7e4-68bd7c50b20c",
   "metadata": {},
   "outputs": [
    {
     "name": "stdout",
     "output_type": "stream",
     "text": [
      "Using for loop\n",
      "Line1: Div\n",
      "Line2: for\n",
      "Line3: Dev\n"
     ]
    }
   ],
   "source": [
    "#77)Write a Python program to read a file line by line store it into a variable. \n",
    "\n",
    "L = [\"Div\\n\", \"for\\n\", \"Dev\\n\"]\n",
    "\n",
    "\n",
    "file1 = open('myfile.txt', 'w')\n",
    "file1.writelines(L)\n",
    "file1.close()\n",
    "\n",
    "file1 = open('myfile.txt', 'r')\n",
    "count = 0\n",
    "\n",
    "print(\"Using for loop\")\n",
    "for line in file1:\n",
    "    count += 1\n",
    "    print(\"Line{}: {}\".format(count, line.strip()))\n",
    "\n",
    "file1.close()\n"
   ]
  },
  {
   "cell_type": "code",
   "execution_count": 379,
   "id": "39f12a5d-20b6-4dae-90ce-cf0bd0244a8a",
   "metadata": {},
   "outputs": [
    {
     "name": "stdout",
     "output_type": "stream",
     "text": [
      "The longest words is:- ['Banglore']\n"
     ]
    }
   ],
   "source": [
    "#78)Write a python program to find the longest words. \n",
    "\n",
    "def longest_words(sentence):\n",
    "    words = sentence.split()\n",
    "    \n",
    "    max_length = max(len(word) for word in words)\n",
    "    \n",
    "    longest_words = [word for word in words if len(word) == max_length]\n",
    "    \n",
    "    return longest_words\n",
    "\n",
    "sentence = \"i am from Banglore\"\n",
    "longest_words = longest_words(sentence)\n",
    "print(\"The longest words is:-\", longest_words)"
   ]
  },
  {
   "cell_type": "code",
   "execution_count": 383,
   "id": "dd8ef752-8442-4779-9d77-eb1c394b9649",
   "metadata": {},
   "outputs": [
    {
     "name": "stdout",
     "output_type": "stream",
     "text": [
      "Total Number of lines: 3\n"
     ]
    }
   ],
   "source": [
    "#79)Write a Python program to count the number of lines in a text file.\n",
    "\n",
    "with open(r\"myfile.txt\", 'r') as fp:\n",
    "\tfor count, line in enumerate(fp):\n",
    "\t\tpass\n",
    "print('Total Number of lines:', count + 1)\n"
   ]
  },
  {
   "cell_type": "code",
   "execution_count": 394,
   "id": "aca4108a-99b5-46ec-acfe-e5accebc5668",
   "metadata": {},
   "outputs": [
    {
     "name": "stdout",
     "output_type": "stream",
     "text": [
      "this: 8\n",
      "is: 8\n",
      "the: 8\n",
      "code.: 4\n",
      "code: 4\n",
      "in: 4\n",
      "file.: 4\n"
     ]
    }
   ],
   "source": [
    "#80)Write a Python program to count the frequency of words in a file\n",
    "\n",
    "g = open(\"fruit1.txt\", \"w\")\n",
    "g.write(\"This is the Python. This code is in the file.\")\n",
    "g.close()\n",
    "\n",
    "for word in words:\n",
    "    word = word.lower().strip()\n",
    "    if word in x:\n",
    "        x[word] += 1\n",
    "    else:\n",
    "        x[word] = 1\n",
    "\n",
    "for word, frequency in x.items():\n",
    "    print(f\"{word}: {frequency}\")"
   ]
  },
  {
   "cell_type": "code",
   "execution_count": 398,
   "id": "1c328d9f-c1ed-4f27-8d40-e4e721dd8acc",
   "metadata": {},
   "outputs": [
    {
     "name": "stdout",
     "output_type": "stream",
     "text": [
      "File written successfully\n"
     ]
    }
   ],
   "source": [
    "#81)Write a Python program to write a list to a file. \n",
    "\n",
    "\n",
    "l = ['Div','for','Dev!']\n",
    "\n",
    "with open('gfg.txt', 'w+') as f:\n",
    "    \n",
    "    # write elements of list\n",
    "    for items in l:\n",
    "        f.write('%s\\n' %items)\n",
    "    \n",
    "    print(\"File written successfully\")\n",
    "\n",
    "\n",
    "# close the file\n",
    "f.close()    \n"
   ]
  },
  {
   "cell_type": "code",
   "execution_count": 400,
   "id": "f9193cff-2559-4e97-a3d4-a330d4ff4237",
   "metadata": {},
   "outputs": [
    {
     "name": "stdout",
     "output_type": "stream",
     "text": [
      "Content copy successfully.\n"
     ]
    }
   ],
   "source": [
    "#82)Write a Python program to copy the contents of a file to another file. \n",
    "\n",
    "content_to_write = \"This is the content of the fruit.txt file.\"\n",
    "\n",
    "g = open(\"fruit1.txt\", \"w\")\n",
    "g.write(content_to_write)\n",
    "g.close()\n",
    "\n",
    "k = open(\"fruit1.txt\", \"r\")\n",
    "contents = k.read()\n",
    "k.close()\n",
    "\n",
    "des_file = open(\"copy_fruit.txt\", \"w\")\n",
    "des_file.write(contents)\n",
    "des_file.close()\n",
    "\n",
    "print(\"Content copy successfully.\")"
   ]
  },
  {
   "cell_type": "code",
   "execution_count": 402,
   "id": "48571fc8-5acc-4edc-ae43-666e23259b41",
   "metadata": {},
   "outputs": [
    {
     "ename": "SyntaxError",
     "evalue": "invalid syntax (1140980111.py, line 3)",
     "output_type": "error",
     "traceback": [
      "\u001b[1;36m  Cell \u001b[1;32mIn[402], line 3\u001b[1;36m\u001b[0m\n\u001b[1;33m    => An error is an issue in a program that prevents the program from completing its task.\u001b[0m\n\u001b[1;37m    ^\u001b[0m\n\u001b[1;31mSyntaxError\u001b[0m\u001b[1;31m:\u001b[0m invalid syntax\n"
     ]
    }
   ],
   "source": [
    "#83)Explain Exception handling? What is an Error in Python? \n",
    "\n",
    "=> An error is an issue in a program that prevents the program from completing its task. \n",
    "   In comparison, an exception is a condition that interrupts the normal flow of the program. \n",
    "   Both errors and exceptions are a type of runtime error, which means they occur during the execution of a program.\n",
    "\n",
    "=>Python Exception Handling handles errors that occur during the execution of a program. \n",
    "  Exception handling allows to respond to the error, instead of crashing the running program. \n",
    "  It enables you to catch and manage errors, making your code more robust and user-friendly."
   ]
  },
  {
   "cell_type": "code",
   "execution_count": 404,
   "id": "ef36154f-cff9-44c6-807f-c9ca0f15f7ea",
   "metadata": {},
   "outputs": [
    {
     "ename": "SyntaxError",
     "evalue": "invalid decimal literal (307664503.py, line 9)",
     "output_type": "error",
     "traceback": [
      "\u001b[1;36m  Cell \u001b[1;32mIn[404], line 9\u001b[1;36m\u001b[0m\n\u001b[1;33m    1.Exception:\u001b[0m\n\u001b[1;37m     ^\u001b[0m\n\u001b[1;31mSyntaxError\u001b[0m\u001b[1;31m:\u001b[0m invalid decimal literal\n"
     ]
    }
   ],
   "source": [
    "#84)How many except statements can a try-except block have? Name Some built-in exception classes: \n",
    "\n",
    "> In Python, a try-except block can have multiple except clauses to handle different types of exceptions. However,\n",
    "   there is no strict limit on the number of except statements you can include. Each except clause can catch different\n",
    "   exceptions, allowing you to handle specific errors differently.\n",
    "\n",
    "   -> Some Built-in Exception Classes:-\n",
    "\n",
    "1.Exception:\n",
    "2.AttributeError:\n",
    "3.IndexError: \n",
    "4.KeyError:\n",
    "5.ValueError: \n",
    "6.TypeError: \n",
    "7.FileNotFoundError: \n",
    "8.ZeroDivisionError:\n",
    "9.ImportError: \n",
    "10.OSError: \n"
   ]
  },
  {
   "cell_type": "code",
   "execution_count": 408,
   "id": "cbf9528c-23af-4cf5-81a6-2091149ed11c",
   "metadata": {},
   "outputs": [
    {
     "name": "stdout",
     "output_type": "stream",
     "text": [
      "Cannot divide by zero!\n"
     ]
    }
   ],
   "source": [
    "#85)When will the else part of try-except-else be executed? \n",
    "\n",
    "\"\"\" The else part of a try-except-else statement in Python is executed when the try block does not raise an exception. \n",
    "\n",
    "=>Explanation:-\n",
    "-The try block tests a block of code for errors.\n",
    "\n",
    "-The except block handles any errors that occur in the try block.\n",
    "\n",
    "-The else block executes code if there are no errors in the try block.\n",
    "\n",
    "The else block is useful for: Keeping code clean, Separating error handling from the normal execution path,\n",
    "Performing specific actions when no exceptions occur, and Enhancing the program flow.\"\"\"\n",
    "\n",
    "try:\n",
    "  result = 10 / 0\n",
    "except ZeroDivisionError:\n",
    "  print(\"Cannot divide by zero!\")\n"
   ]
  },
  {
   "cell_type": "code",
   "execution_count": 418,
   "id": "d57de9c2-63de-401b-a212-eb9962422b41",
   "metadata": {},
   "outputs": [
    {
     "name": "stdin",
     "output_type": "stream",
     "text": [
      "Input a number:  a\n"
     ]
    },
    {
     "name": "stdout",
     "output_type": "stream",
     "text": [
      "Invalid input or division by zero occurred.\n"
     ]
    }
   ],
   "source": [
    "#86)Can one block of except statements handle multiple exception?\n",
    "\n",
    "try:\n",
    "    n = int(input(\"Input a number: \"))\n",
    "    result = 10 / n\n",
    "except (ValueError, ZeroDivisionError):\n",
    "    print(\"Invalid input or division by zero occurred.\")\n",
    "\n",
    "    "
   ]
  },
  {
   "cell_type": "code",
   "execution_count": 420,
   "id": "d7919a95-2fa1-415f-b07d-88ac38509f3b",
   "metadata": {},
   "outputs": [
    {
     "ename": "SyntaxError",
     "evalue": "unterminated string literal (detected at line 15) (2722791910.py, line 15)",
     "output_type": "error",
     "traceback": [
      "\u001b[1;36m  Cell \u001b[1;32mIn[420], line 15\u001b[1;36m\u001b[0m\n\u001b[1;33m    It's a good practice to put cleanup code in a finally block, even when no exceptions are anticipated.\u001b[0m\n\u001b[1;37m      ^\u001b[0m\n\u001b[1;31mSyntaxError\u001b[0m\u001b[1;31m:\u001b[0m unterminated string literal (detected at line 15)\n"
     ]
    }
   ],
   "source": [
    "#87)When is the finally block executed? \n",
    "\n",
    "=> A finally block is executed when the try block exits, regardless of whether an exception occurs.\n",
    "   This ensures that cleanup code is executed, even if an exception is thrown\n",
    "\n",
    "=>Explanation:-\n",
    "The finally block is part of the try-catch-finally statement.\n",
    "The try block contains code that might throw an exception.\n",
    "The catch block handles the type of exception indicated by its argument.\n",
    "The finally block executes after all other error processing has occurred.\n",
    "\n",
    "=>Why is the finally block useful?\n",
    "It ensures that cleanup code is executed, even if an exception is thrown. \n",
    "It prevents cleanup code from being accidentally bypassed by a return, continue, or break. \n",
    "It's a good practice to put cleanup code in a finally block, even when no exceptions are anticipated. \n"
   ]
  },
  {
   "cell_type": "code",
   "execution_count": 422,
   "id": "3cdb171f-58ad-4e41-badf-d5bfb631ee5c",
   "metadata": {},
   "outputs": [
    {
     "name": "stdout",
     "output_type": "stream",
     "text": [
      "[4, 9, 16, 25]\n"
     ]
    }
   ],
   "source": [
    "#88)What happens when „1‟== 1 is executed?\n",
    "\n",
    "\"\"\"In python thing inside ' ' or \" \" are considered as a string. So for condition if('1' == 1) returns a false.\"\"\"\n",
    "\n",
    "a = [2,3,4,5]\n",
    "\n",
    "res = [val ** 2 for val in a]\n",
    "\n",
    "print(res)"
   ]
  },
  {
   "cell_type": "code",
   "execution_count": 424,
   "id": "ae42692f-4b20-4be4-8c27-6995bfa3884e",
   "metadata": {},
   "outputs": [
    {
     "name": "stdout",
     "output_type": "stream",
     "text": [
      "Something went wrong when writing to the file\n"
     ]
    }
   ],
   "source": [
    "#89)How Do You Handle Exceptions with Try/Except/Finally in Python? Explain with coding snippets. \n",
    "\n",
    "\"\"\" => the try-except-finally blocks are used to handle exceptions. The try block contains code that may raise an exception,\n",
    "   while the except block contains code that handles the exception. \n",
    "   The finally block executes regardless of whether an exception occurred\n",
    "\n",
    "=> How it works:-\n",
    "-> The try block is executed. \n",
    "-> If no exception occurs, the try block executes and the except block is skipped. \n",
    "-> If an exception occurs, the except block is executed and the try block is skipped. \n",
    "-> If the exception is not handled by the except block, it is passed to the outer try block. \n",
    "-> If the exception is still not handled, the execution stops. \n",
    "-> The finally block executes after the try and except blocks.\"\"\"\n",
    "\n",
    "try:\n",
    "  f = open(\"demofile.txt\")\n",
    "  f.write(\"Lorum Ipsum\")\n",
    "except:\n",
    "  print(\"Something went wrong when writing to the file\")\n",
    "finally:\n",
    "  f.close()\n",
    "\n"
   ]
  },
  {
   "cell_type": "code",
   "execution_count": 1,
   "id": "1fd4cab5-3e59-491e-854c-e0b2e44e0b24",
   "metadata": {},
   "outputs": [
    {
     "name": "stdin",
     "output_type": "stream",
     "text": [
      "Enter a number:  5\n"
     ]
    },
    {
     "name": "stdout",
     "output_type": "stream",
     "text": [
      "This is an odd number.\n"
     ]
    }
   ],
   "source": [
    "#90)Write python program that user to enter only odd numbers, else will raise an exception. \n",
    "\n",
    "\n",
    "num = int(input(\"Enter a number: \"))\n",
    "\n",
    "mod = num % 2\n",
    "\n",
    "if mod > 0:\n",
    "\n",
    "    print(\"This is an odd number.\")\n",
    "else:\n",
    "    \n",
    "    print(\"This is an even number.\")\n"
   ]
  },
  {
   "cell_type": "code",
   "execution_count": null,
   "id": "a21b08c5-2fee-40ed-bb38-86f5669358dd",
   "metadata": {},
   "outputs": [],
   "source": []
  }
 ],
 "metadata": {
  "kernelspec": {
   "display_name": "Python [conda env:base] *",
   "language": "python",
   "name": "conda-base-py"
  },
  "language_info": {
   "codemirror_mode": {
    "name": "ipython",
    "version": 3
   },
   "file_extension": ".py",
   "mimetype": "text/x-python",
   "name": "python",
   "nbconvert_exporter": "python",
   "pygments_lexer": "ipython3",
   "version": "3.12.7"
  }
 },
 "nbformat": 4,
 "nbformat_minor": 5
}
